{
 "cells": [
  {
   "cell_type": "markdown",
   "id": "8b3931b0",
   "metadata": {},
   "source": [
    "## rag 환경 활성화"
   ]
  },
  {
   "cell_type": "code",
   "execution_count": 2,
   "id": "14f91756",
   "metadata": {},
   "outputs": [],
   "source": [
    "from datetime import datetime"
   ]
  },
  {
   "cell_type": "code",
   "execution_count": 20,
   "id": "b3f82fd3",
   "metadata": {},
   "outputs": [
    {
     "data": {
      "text/plain": [
       "398989"
      ]
     },
     "execution_count": 20,
     "metadata": {},
     "output_type": "execute_result"
    }
   ],
   "source": [
    "now = datetime.now()\n",
    "now.microsecond"
   ]
  },
  {
   "cell_type": "code",
   "execution_count": 14,
   "id": "535eff19",
   "metadata": {},
   "outputs": [
    {
     "data": {
      "text/plain": [
       "310745"
      ]
     },
     "execution_count": 14,
     "metadata": {},
     "output_type": "execute_result"
    }
   ],
   "source": [
    "now.microsecond"
   ]
  },
  {
   "cell_type": "code",
   "execution_count": 23,
   "id": "92b834be",
   "metadata": {},
   "outputs": [
    {
     "data": {
      "text/plain": [
       "985379"
      ]
     },
     "execution_count": 23,
     "metadata": {},
     "output_type": "execute_result"
    }
   ],
   "source": [
    "datetime.now().microsecond"
   ]
  },
  {
   "cell_type": "code",
   "execution_count": 24,
   "id": "1f22a0e2",
   "metadata": {},
   "outputs": [
    {
     "data": {
      "text/plain": [
       "'ss469040'"
      ]
     },
     "execution_count": 24,
     "metadata": {},
     "output_type": "execute_result"
    }
   ],
   "source": [
    "f\"ss{datetime.now().microsecond}\""
   ]
  },
  {
   "cell_type": "code",
   "execution_count": 28,
   "id": "74f9c780",
   "metadata": {},
   "outputs": [
    {
     "data": {
      "text/plain": [
       "27"
      ]
     },
     "execution_count": 28,
     "metadata": {},
     "output_type": "execute_result"
    }
   ],
   "source": [
    "datetime.now().day"
   ]
  },
  {
   "cell_type": "code",
   "execution_count": 29,
   "id": "16bb07a2",
   "metadata": {},
   "outputs": [
    {
     "data": {
      "text/plain": [
       "18"
      ]
     },
     "execution_count": 29,
     "metadata": {},
     "output_type": "execute_result"
    }
   ],
   "source": [
    "datetime.now().hour"
   ]
  },
  {
   "cell_type": "code",
   "execution_count": 30,
   "id": "38e54c99",
   "metadata": {},
   "outputs": [
    {
     "data": {
      "text/plain": [
       "45"
      ]
     },
     "execution_count": 30,
     "metadata": {},
     "output_type": "execute_result"
    }
   ],
   "source": [
    "datetime.now().minute"
   ]
  },
  {
   "cell_type": "code",
   "execution_count": 31,
   "id": "bd9bf514",
   "metadata": {},
   "outputs": [
    {
     "data": {
      "text/plain": [
       "'27_18_45_771949'"
      ]
     },
     "execution_count": 31,
     "metadata": {},
     "output_type": "execute_result"
    }
   ],
   "source": [
    "f\"{datetime.now().day}_{datetime.now().hour}_{datetime.now().minute}_{datetime.now().microsecond}\""
   ]
  },
  {
   "cell_type": "code",
   "execution_count": 32,
   "id": "420c9a73",
   "metadata": {},
   "outputs": [
    {
     "data": {
      "text/plain": [
       "'10_27_18_46_161656'"
      ]
     },
     "execution_count": 32,
     "metadata": {},
     "output_type": "execute_result"
    }
   ],
   "source": [
    "f\"{datetime.now().month}_{datetime.now().day}_{datetime.now().hour}_{datetime.now().minute}_{datetime.now().microsecond}\""
   ]
  },
  {
   "cell_type": "code",
   "execution_count": null,
   "id": "462dc655",
   "metadata": {},
   "outputs": [],
   "source": [
    "a = \"False\""
   ]
  },
  {
   "cell_type": "code",
   "execution_count": 43,
   "id": "782941e9",
   "metadata": {},
   "outputs": [],
   "source": [
    "if not bool(a):\n",
    "    print(\"hi\")"
   ]
  },
  {
   "cell_type": "code",
   "execution_count": 44,
   "id": "f7467e64",
   "metadata": {},
   "outputs": [
    {
     "data": {
      "text/plain": [
       "True"
      ]
     },
     "execution_count": 44,
     "metadata": {},
     "output_type": "execute_result"
    }
   ],
   "source": [
    "bool(a)"
   ]
  },
  {
   "cell_type": "code",
   "execution_count": null,
   "id": "851f0d42",
   "metadata": {},
   "outputs": [],
   "source": []
  }
 ],
 "metadata": {
  "kernelspec": {
   "display_name": "rag",
   "language": "python",
   "name": "python3"
  },
  "language_info": {
   "codemirror_mode": {
    "name": "ipython",
    "version": 3
   },
   "file_extension": ".py",
   "mimetype": "text/x-python",
   "name": "python",
   "nbconvert_exporter": "python",
   "pygments_lexer": "ipython3",
   "version": "3.11.5"
  }
 },
 "nbformat": 4,
 "nbformat_minor": 5
}
