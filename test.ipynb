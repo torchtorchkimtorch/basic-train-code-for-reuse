{
 "cells": [
  {
   "cell_type": "code",
   "execution_count": 20,
   "id": "851f0d42",
   "metadata": {},
   "outputs": [],
   "source": [
    "from datasets import load_dataset\n",
    "\n",
    "ds = load_dataset(\"GAIR/lima\",split=\"train\")"
   ]
  },
  {
   "cell_type": "code",
   "execution_count": 16,
   "id": "12055989",
   "metadata": {},
   "outputs": [],
   "source": [
    "import json\n",
    "with open(\"./data/lima_original.jsonl\", \"w\") as f:\n",
    "    for idx in range(len(ds)):\n",
    "        user = ds[idx][\"conversations\"][0]\n",
    "        assistant = ds[idx][\"conversations\"][1]\n",
    "        f.write(json.dumps({\"system_prompt\":\"\",\"user\":user, \"assistant\":assistant}, ensure_ascii=False) + \"\\n\")"
   ]
  },
  {
   "cell_type": "code",
   "execution_count": 22,
   "id": "d17b7b13",
   "metadata": {},
   "outputs": [],
   "source": [
    "from transformers import AutoTokenizer\n",
    "tokenizer = AutoTokenizer.from_pretrained(\"meta-llama/Llama-3.1-8B-Instruct\")"
   ]
  },
  {
   "cell_type": "code",
   "execution_count": 25,
   "id": "f5edad21",
   "metadata": {},
   "outputs": [],
   "source": [
    "from data import SFTDataset\n",
    "preprocessor = SFTDataset(tokenizer, \"enable_thinking\", True, \"jsonl\" )\n",
    "ds = preprocessor.preprocess()"
   ]
  },
  {
   "cell_type": "code",
   "execution_count": 26,
   "id": "e0ae8de8",
   "metadata": {},
   "outputs": [
    {
     "name": "stdout",
     "output_type": "stream",
     "text": [
      "The question is relatively broad and one should take into account that the brain not only consists of neurons, but also glial cells (supportive cells) and pre-mitotic neuronal stem cells. Furthermore, as critical fellow-scientists have indicated, developmental stage is very important, as the developing embryonic brain is very different from the adult brain.\n",
      "However, after sifting through various publications, the answer to the question is actually remarkably simple: Yes, brain cells migrate.\n",
      "In  the adult brain glial cells migrate in the brain (Klämbt, 2009). Glial cells are involved in a myriad of functions, but a notable example of migrating glial cells are the oligodendrocytes that migrate relative long distances to find their target axons onto which they wrap themselves to form the insulating myelin sheath (Tsai and Miller, 2002).\n",
      "Neuronal stem cells migrate over long distances in response to injury (Imitola et al., 2004) and they migrate from specific stem-cell locations (e.g., hippocampus and subventricular zone) to other regions (Clarke, 2003).\n",
      "Post-mitotic, but non-differentiated neurons have been shown to migrate in the adult brain in fish (Scott et al., 2012), and in mammals and non-human primates as well (Sawada et al., 2011).\n",
      "Not surprisingly, glial cells, stem cells and neurons also migrate during embryonic development. Most notably, post-mitotic neurons destined to fulfill peripheral functions have to migrate over relatively long distances from the neural crest to their target locations (Neuroscience, 2nd ed, Neuronal Migration).<|eot_id|>\n"
     ]
    }
   ],
   "source": [
    "example = ds[0]\n",
    "input_ids = example[\"input_ids\"]\n",
    "labels = example[\"labels\"]\n",
    "valid_mask = [l != -100 for l in labels]\n",
    "answer_ids = [i for i, m in zip(input_ids, valid_mask) if m]\n",
    "decoded_answer = tokenizer.decode(answer_ids, skip_special_tokens=False)\n",
    "print(decoded_answer)"
   ]
  }
 ],
 "metadata": {
  "kernelspec": {
   "display_name": "rag",
   "language": "python",
   "name": "python3"
  },
  "language_info": {
   "codemirror_mode": {
    "name": "ipython",
    "version": 3
   },
   "file_extension": ".py",
   "mimetype": "text/x-python",
   "name": "python",
   "nbconvert_exporter": "python",
   "pygments_lexer": "ipython3",
   "version": "3.11.5"
  }
 },
 "nbformat": 4,
 "nbformat_minor": 5
}
